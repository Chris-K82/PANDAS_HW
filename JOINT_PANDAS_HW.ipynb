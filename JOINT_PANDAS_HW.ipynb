{
 "cells": [
  {
   "cell_type": "code",
   "execution_count": 1,
   "metadata": {},
   "outputs": [],
   "source": [
    "pw = \"data\"\n",
    "#!echo \"data\" | sudo -S \"sudo -H pip\"\n",
    "#invite people for the Kaggle party\n",
    "import pandas as pd\n",
    "import matplotlib.pyplot as plt\n",
    "import seaborn as sns\n",
    "import numpy as np\n",
    "from scipy.stats import norm\n",
    "from sklearn.preprocessing import StandardScaler\n",
    "from scipy import stats\n",
    "import warnings\n",
    "warnings.filterwarnings('ignore')\n",
    "%matplotlib inline"
   ]
  },
  {
   "cell_type": "code",
   "execution_count": 1,
   "metadata": {},
   "outputs": [
    {
     "name": "stdout",
     "output_type": "stream",
     "text": [
      "usage: git [--version] [--help] [-C <path>] [-c <name>=<value>]\r\n",
      "           [--exec-path[=<path>]] [--html-path] [--man-path] [--info-path]\r\n",
      "           [-p | --paginate | -P | --no-pager] [--no-replace-objects] [--bare]\r\n",
      "           [--git-dir=<path>] [--work-tree=<path>] [--namespace=<name>]\r\n",
      "           <command> [<args>]\r\n",
      "\r\n",
      "These are common Git commands used in various situations:\r\n",
      "\r\n",
      "start a working area (see also: git help tutorial)\r\n",
      "   clone      Clone a repository into a new directory\r\n",
      "   init       Create an empty Git repository or reinitialize an existing one\r\n",
      "\r\n",
      "work on the current change (see also: git help everyday)\r\n",
      "   add        Add file contents to the index\r\n",
      "   mv         Move or rename a file, a directory, or a symlink\r\n",
      "   reset      Reset current HEAD to the specified state\r\n",
      "   rm         Remove files from the working tree and from the index\r\n",
      "\r\n",
      "examine the history and state (see also: git help revisions)\r\n",
      "   bisect     Use binary search to find the commit that introduced a bug\r\n",
      "   grep       Print lines matching a pattern\r\n",
      "   log        Show commit logs\r\n",
      "   show       Show various types of objects\r\n",
      "   status     Show the working tree status\r\n",
      "\r\n",
      "grow, mark and tweak your common history\r\n",
      "   branch     List, create, or delete branches\r\n",
      "   checkout    Switch branches or restore working tree files\r\n",
      "   commit     Record changes to the repository\r\n",
      "   diff       Show changes between commits, commit and working tree, etc\r\n",
      "   merge      Join two or more development histories together\r\n",
      "   rebase     Reapply commits on top of another base tip\r\n",
      "   tag        Create, list, delete or verify a tag object signed with GPG\r\n",
      "\r\n",
      "collaborate (see also: git help workflows)\r\n",
      "   fetch      Download objects and refs from another repository\r\n",
      "   pull       Fetch from and integrate with another repository or a local branch\r\n",
      "   push       Update remote refs along with associated objects\r\n",
      "\r\n",
      "'git help -a' and 'git help -g' list available subcommands and some\r\n",
      "concept guides. See 'git help <command>' or 'git help <concept>'\r\n",
      "to read about a specific subcommand or concept.\r\n"
     ]
    }
   ],
   "source": [
    "!git help"
   ]
  },
  {
   "cell_type": "code",
   "execution_count": 8,
   "metadata": {},
   "outputs": [
    {
     "name": "stdout",
     "output_type": "stream",
     "text": [
      "See 'git help <command>' to read about a specific subcommand\r\n",
      "\r\n",
      "Main Porcelain Commands\r\n",
      "   add                  Add file contents to the index\r\n",
      "   am                   Apply a series of patches from a mailbox\r\n",
      "   archive              Create an archive of files from a named tree\r\n",
      "   bisect               Use binary search to find the commit that introduced a bug\r\n",
      "   branch               List, create, or delete branches\r\n",
      "   bundle               Move objects and refs by archive\r\n",
      "   checkout             Switch branches or restore working tree files\r\n",
      "   cherry-pick          Apply the changes introduced by some existing commits\r\n",
      "   citool               Graphical alternative to git-commit\r\n",
      "   clean                Remove untracked files from the working tree\r\n",
      "   clone                Clone a repository into a new directory\r\n",
      "   commit               Record changes to the repository\r\n",
      "   describe             Give an object a human readable name based on an available ref\r\n",
      "   diff                 Show changes between commits, commit and working tree, etc\r\n",
      "   fetch                Download objects and refs from another repository\r\n",
      "   format-patch         Prepare patches for e-mail submission\r\n",
      "   gc                   Cleanup unnecessary files and optimize the local repository\r\n",
      "   gitk                 The Git repository browser\r\n",
      "   grep                 Print lines matching a pattern\r\n",
      "   gui                  A portable graphical interface to Git\r\n",
      "   init                 Create an empty Git repository or reinitialize an existing one\r\n",
      "   log                  Show commit logs\r\n",
      "   merge                Join two or more development histories together\r\n",
      "   mv                   Move or rename a file, a directory, or a symlink\r\n",
      "   notes                Add or inspect object notes\r\n",
      "   pull                 Fetch from and integrate with another repository or a local branch\r\n",
      "   push                 Update remote refs along with associated objects\r\n",
      "   range-diff           Compare two commit ranges (e.g. two versions of a branch)\r\n",
      "   rebase               Reapply commits on top of another base tip\r\n",
      "   reset                Reset current HEAD to the specified state\r\n",
      "   revert               Revert some existing commits\r\n",
      "   rm                   Remove files from the working tree and from the index\r\n",
      "   shortlog             Summarize 'git log' output\r\n",
      "   show                 Show various types of objects\r\n",
      "   stash                Stash the changes in a dirty working directory away\r\n",
      "   status               Show the working tree status\r\n",
      "   submodule            Initialize, update or inspect submodules\r\n",
      "   tag                  Create, list, delete or verify a tag object signed with GPG\r\n",
      "   worktree             Manage multiple working trees\r\n",
      "\r\n",
      "Ancillary Commands / Manipulators\r\n",
      "   config               Get and set repository or global options\r\n",
      "   fast-export          Git data exporter\r\n",
      "   fast-import          Backend for fast Git data importers\r\n",
      "   filter-branch        Rewrite branches\r\n",
      "   mergetool            Run merge conflict resolution tools to resolve merge conflicts\r\n",
      "   pack-refs            Pack heads and tags for efficient repository access\r\n",
      "   prune                Prune all unreachable objects from the object database\r\n",
      "   reflog               Manage reflog information\r\n",
      "   remote               Manage set of tracked repositories\r\n",
      "   repack               Pack unpacked objects in a repository\r\n",
      "   replace              Create, list, delete refs to replace objects\r\n",
      "\r\n",
      "Ancillary Commands / Interrogators\r\n",
      "   annotate             Annotate file lines with commit information\r\n",
      "   blame                Show what revision and author last modified each line of a file\r\n",
      "   count-objects        Count unpacked number of objects and their disk consumption\r\n",
      "   difftool             Show changes using common diff tools\r\n",
      "   fsck                 Verifies the connectivity and validity of the objects in the database\r\n",
      "   gitweb               Git web interface (web frontend to Git repositories)\r\n",
      "   help                 Display help information about Git\r\n",
      "   instaweb             Instantly browse your working repository in gitweb\r\n",
      "   merge-tree           Show three-way merge without touching index\r\n",
      "   rerere               Reuse recorded resolution of conflicted merges\r\n",
      "   show-branch          Show branches and their commits\r\n",
      "   verify-commit        Check the GPG signature of commits\r\n",
      "   verify-tag           Check the GPG signature of tags\r\n",
      "   whatchanged          Show logs with difference each commit introduces\r\n",
      "\r\n",
      "Interacting with Others\r\n",
      "   archimport           Import a GNU Arch repository into Git\r\n",
      "   cvsexportcommit      Export a single commit to a CVS checkout\r\n",
      "   cvsimport            Salvage your data out of another SCM people love to hate\r\n",
      "   cvsserver            A CVS server emulator for Git\r\n",
      "   imap-send            Send a collection of patches from stdin to an IMAP folder\r\n",
      "   p4                   Import from and submit to Perforce repositories\r\n",
      "   quiltimport          Applies a quilt patchset onto the current branch\r\n",
      "   request-pull         Generates a summary of pending changes\r\n",
      "   send-email           Send a collection of patches as emails\r\n",
      "   svn                  Bidirectional operation between a Subversion repository and Git\r\n",
      "\r\n",
      "Low-level Commands / Manipulators\r\n",
      "   apply                Apply a patch to files and/or to the index\r\n",
      "   checkout-index       Copy files from the index to the working tree\r\n",
      "   commit-graph         Write and verify Git commit-graph files\r\n",
      "   commit-tree          Create a new commit object\r\n",
      "   hash-object          Compute object ID and optionally creates a blob from a file\r\n",
      "   index-pack           Build pack index file for an existing packed archive\r\n",
      "   merge-file           Run a three-way file merge\r\n",
      "   merge-index          Run a merge for files needing merging\r\n",
      "   mktag                Creates a tag object\r\n",
      "   mktree               Build a tree-object from ls-tree formatted text\r\n",
      "   multi-pack-index     Write and verify multi-pack-indexes\r\n",
      "   pack-objects         Create a packed archive of objects\r\n",
      "   prune-packed         Remove extra objects that are already in pack files\r\n",
      "   read-tree            Reads tree information into the index\r\n",
      "   symbolic-ref         Read, modify and delete symbolic refs\r\n",
      "   unpack-objects       Unpack objects from a packed archive\r\n",
      "   update-index         Register file contents in the working tree to the index\r\n",
      "   update-ref           Update the object name stored in a ref safely\r\n",
      "   write-tree           Create a tree object from the current index\r\n",
      "\r\n",
      "Low-level Commands / Interrogators\r\n",
      "   cat-file             Provide content or type and size information for repository objects\r\n",
      "   cherry               Find commits yet to be applied to upstream\r\n",
      "   diff-files           Compares files in the working tree and the index\r\n",
      "   diff-index           Compare a tree to the working tree or index\r\n",
      "   diff-tree            Compares the content and mode of blobs found via two tree objects\r\n",
      "   for-each-ref         Output information on each ref\r\n",
      "   get-tar-commit-id    Extract commit ID from an archive created using git-archive\r\n",
      "   ls-files             Show information about files in the index and the working tree\r\n",
      "   ls-remote            List references in a remote repository\r\n",
      "   ls-tree              List the contents of a tree object\r\n",
      "   merge-base           Find as good common ancestors as possible for a merge\r\n",
      "   name-rev             Find symbolic names for given revs\r\n",
      "   pack-redundant       Find redundant pack files\r\n",
      "   rev-list             Lists commit objects in reverse chronological order\r\n",
      "   rev-parse            Pick out and massage parameters\r\n",
      "   show-index           Show packed archive index\r\n",
      "   show-ref             List references in a local repository\r\n",
      "   unpack-file          Creates a temporary file with a blob's contents\r\n",
      "   var                  Show a Git logical variable\r\n",
      "   verify-pack          Validate packed Git archive files\r\n",
      "\r\n",
      "Low-level Commands / Synching Repositories\r\n",
      "   daemon               A really simple server for Git repositories\r\n",
      "   fetch-pack           Receive missing objects from another repository\r\n",
      "   http-backend         Server side implementation of Git over HTTP\r\n",
      "   send-pack            Push objects over Git protocol to another repository\r\n",
      "   update-server-info    Update auxiliary info file to help dumb servers\r\n",
      "\r\n",
      "Low-level Commands / Internal Helpers\r\n",
      "   check-attr           Display gitattributes information\r\n",
      "   check-ignore         Debug gitignore / exclude files\r\n",
      "   check-mailmap        Show canonical names and email addresses of contacts\r\n",
      "   check-ref-format     Ensures that a reference name is well formed\r\n",
      "   column               Display data in columns\r\n",
      "   credential           Retrieve and store user credentials\r\n",
      "   credential-cache     Helper to temporarily store passwords in memory\r\n",
      "   credential-store     Helper to store credentials on disk\r\n",
      "   fmt-merge-msg        Produce a merge commit message\r\n",
      "   interpret-trailers    add or parse structured information in commit messages\r\n",
      "   mailinfo             Extracts patch and authorship from a single e-mail message\r\n",
      "   mailsplit            Simple UNIX mbox splitter program\r\n",
      "   merge-one-file       The standard helper program to use with git-merge-index\r\n",
      "   patch-id             Compute unique ID for a patch\r\n",
      "   sh-i18n              Git's i18n setup code for shell scripts\r\n",
      "   sh-setup             Common Git shell script setup code\r\n",
      "   stripspace           Remove unnecessary whitespace\r\n",
      "\r\n",
      "External commands\r\n",
      "   cvsserver\r\n"
     ]
    }
   ],
   "source": [
    "!git help -a"
   ]
  },
  {
   "cell_type": "code",
   "execution_count": 9,
   "metadata": {},
   "outputs": [
    {
     "name": "stdout",
     "output_type": "stream",
     "text": [
      "  help\u001b[m\r\n",
      "* \u001b[32mmaster\u001b[m\r\n"
     ]
    }
   ],
   "source": [
    "!git branch"
   ]
  },
  {
   "cell_type": "code",
   "execution_count": 11,
   "metadata": {},
   "outputs": [],
   "source": [
    "!git branch Ela"
   ]
  },
  {
   "cell_type": "code",
   "execution_count": 12,
   "metadata": {},
   "outputs": [
    {
     "name": "stdout",
     "output_type": "stream",
     "text": [
      "  Ela\u001b[m\r\n",
      "  help\u001b[m\r\n",
      "* \u001b[32mmaster\u001b[m\r\n"
     ]
    }
   ],
   "source": [
    "!git branch"
   ]
  },
  {
   "cell_type": "code",
   "execution_count": 13,
   "metadata": {},
   "outputs": [
    {
     "name": "stdout",
     "output_type": "stream",
     "text": [
      "M\tJOINT_PANDAS_HW.ipynb\r\n",
      "Switched to branch 'Ela'\r\n"
     ]
    }
   ],
   "source": [
    "!git checkout Ela"
   ]
  },
  {
   "cell_type": "code",
   "execution_count": 14,
   "metadata": {},
   "outputs": [
    {
     "name": "stdout",
     "output_type": "stream",
     "text": [
      "There is no tracking information for the current branch.\r\n",
      "Please specify which branch you want to merge with.\r\n",
      "See git-pull(1) for details.\r\n",
      "\r\n",
      "    git pull <remote> <branch>\r\n",
      "\r\n",
      "If you wish to set tracking information for this branch you can do so with:\r\n",
      "\r\n",
      "    git branch --set-upstream-to=origin/<branch> Ela\r\n",
      "\r\n"
     ]
    }
   ],
   "source": [
    "!git pull"
   ]
  },
  {
   "cell_type": "code",
   "execution_count": null,
   "metadata": {},
   "outputs": [],
   "source": []
  }
 ],
 "metadata": {
  "kernelspec": {
   "display_name": "Python 3",
   "language": "python",
   "name": "python3"
  },
  "language_info": {
   "codemirror_mode": {
    "name": "ipython",
    "version": 3
   },
   "file_extension": ".py",
   "mimetype": "text/x-python",
   "name": "python",
   "nbconvert_exporter": "python",
   "pygments_lexer": "ipython3",
   "version": "3.7.3"
  },
  "toc": {
   "base_numbering": 1,
   "nav_menu": {},
   "number_sections": true,
   "sideBar": true,
   "skip_h1_title": false,
   "title_cell": "Table of Contents",
   "title_sidebar": "Contents",
   "toc_cell": false,
   "toc_position": {},
   "toc_section_display": true,
   "toc_window_display": false
  },
  "varInspector": {
   "cols": {
    "lenName": 16,
    "lenType": 16,
    "lenVar": 40
   },
   "kernels_config": {
    "python": {
     "delete_cmd_postfix": "",
     "delete_cmd_prefix": "del ",
     "library": "var_list.py",
     "varRefreshCmd": "print(var_dic_list())"
    },
    "r": {
     "delete_cmd_postfix": ") ",
     "delete_cmd_prefix": "rm(",
     "library": "var_list.r",
     "varRefreshCmd": "cat(var_dic_list()) "
    }
   },
   "types_to_exclude": [
    "module",
    "function",
    "builtin_function_or_method",
    "instance",
    "_Feature"
   ],
   "window_display": false
  }
 },
 "nbformat": 4,
 "nbformat_minor": 2
}
